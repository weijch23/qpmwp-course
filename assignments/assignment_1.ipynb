{
 "cells": [
  {
   "cell_type": "markdown",
   "metadata": {},
   "source": [
    "# Assignment 1\n",
    "\n",
    "Deadline: 19.03.2025, 12:00 CET\n",
    "\n",
    "<Add your name, student-id and emal address>"
   ]
  },
  {
   "cell_type": "code",
   "execution_count": null,
   "metadata": {},
   "outputs": [
    {
     "name": "stdout",
     "output_type": "stream",
     "text": [
      "/Users/cwj/Downloads/UZH/4_QPM/qpmwp-course/src/\n"
     ]
    }
   ],
   "source": [
    "# Import standard libraries\n",
    "import os\n",
    "import sys\n",
    "import timeit # To compute runtimes\n",
    "from typing import Optional\n",
    "\n",
    "# Import third-party libraries\n",
    "import numpy as np\n",
    "import pandas as pd\n",
    "import matplotlib.pyplot as plt\n",
    "\n",
    "# Import local modules\n",
    "project_root = os.path.dirname(os.path.dirname(os.getcwd()))\n",
    "src_path = os.path.join(project_root, 'qpmwp-course/src/')\n",
    "sys.path.append(project_root)\n",
    "sys.path.append(src_path)\n",
    "from estimation.covariance import Covariance\n",
    "from estimation.expected_return import ExpectedReturn\n",
    "from optimization.constraints import Constraints\n",
    "from optimization.optimization import Optimization, Objective\n",
    "from optimization.optimization_data import OptimizationData\n",
    "from optimization.quadratic_program import QuadraticProgram, USABLE_SOLVERS"
   ]
  },
  {
   "cell_type": "markdown",
   "metadata": {},
   "source": [
    "## 1. Solver Horse Race\n",
    "\n",
    "### 1.a)\n",
    "(3 points)\n",
    "\n",
    "Generate a Multivariate-Normal random dataset of dimension TxN, T=1000, N=100, and compute a vector of expected returns, q, and a covariance matrix, P, using classes ExpectedReturn and Covariance respectively."
   ]
  },
  {
   "cell_type": "code",
   "execution_count": null,
   "metadata": {},
   "outputs": [],
   "source": [
    "\n",
    "# Set the dimensions\n",
    "T = 1000  # Number of time periods\n",
    "N = 100   # Number of assets\n",
    "\n",
    "# Generate a random mean vector and covariance matrix for the multivariate normal distribution\n",
    "# mean = <your code here>\n",
    "# cov = <your code here>\n",
    "\n",
    "# Generate the Multivariate-Normal random dataset\n",
    "# data = <your code here>\n",
    "\n",
    "# Convert the dataset to a DataFrame for easier manipulation\n",
    "df = pd.DataFrame(data, columns=[f'Asset_{i+1}' for i in range(N)])\n",
    "\n",
    "# Compute the vector of expected returns (mean returns) from df\n",
    "# q =  <your code here>\n",
    "\n",
    "# Compute the covariance matrix from df\n",
    "# P = <your code here>\n",
    "# Set the random seed for reproducibility\n",
    "np.random.seed(42)\n",
    "#multivariate normal random dataset of dimension T x N\n",
    "data = np.random.multivariate_normal(np.zeros(N), np.eye(N), T) #mean = 0, cov = I\n",
    "# Display the results\n",
    "print(\"Vector of expected returns (q):\")\n",
    "print(q)\n",
    "\n",
    "print(\"\\nCovariance matrix (P):\")\n",
    "print(P)"
   ]
  },
  {
   "cell_type": "markdown",
   "metadata": {},
   "source": [
    "### 1.b)\n",
    "(3 points)\n",
    "\n",
    "Instantiate a constraints object by injecting column names of the data created in 1.a) as ids and add:\n",
    "- a budget constaint (i.e., asset weights have to sum to one)\n",
    "- lower bounds of 0.0 for all assets\n",
    "- upper bounds of 0.2 for all assets\n",
    "- group contraints such that the sum of the weights of the first 30 assets is <= 0.3, the sum of assets 31 to 60 is <= 0.4 and the sum of assets 61 to 100 is <= 0.5"
   ]
  },
  {
   "cell_type": "markdown",
   "metadata": {},
   "source": []
  },
  {
   "cell_type": "code",
   "execution_count": null,
   "metadata": {},
   "outputs": [
    {
     "data": {
      "text/plain": [
       "<optimization.constraints.Constraints at 0x1663129c9d0>"
      ]
     },
     "execution_count": 3,
     "metadata": {},
     "output_type": "execute_result"
    }
   ],
   "source": [
    "# Instantiate the Constraints class\n",
    "constraints = Constraints(ids = df.columns.tolist())\n",
    "\n",
    "# Add budget constraint\n",
    "#<your code here>\n",
    "\n",
    "# Add box constraints (i.e., lower and upper bounds)\n",
    "#<your code here>\n",
    "\n",
    "# Add linear constraints\n",
    "#<your code here>"
   ]
  },
  {
   "cell_type": "markdown",
   "metadata": {},
   "source": [
    "### 1.c) \n",
    "(4 points)\n",
    "\n",
    "Solve a Mean-Variance optimization problem (using coefficients P and q in the objective function) which satisfies the above defined constraints.\n",
    "Repeat the task for all open-source solvers in qpsolvers and compare the results in terms of:\n",
    "\n",
    "- runtime\n",
    "- accuracy: value of the primal problem.\n",
    "- reliability: are all constarints fulfilled? Extract primal resisduals, dual residuals and duality gap.\n",
    "\n",
    "Generate a DataFrame with the solvers as column names and the following row index: 'solution_found': bool, 'objective': float, 'primal_residual': float, 'dual_residual': float, 'duality_gap': float, 'runtime': float.\n",
    "\n",
    "Put NA's for solvers that failed for some reason (e.g., unable to install the package or solvers throws an error during execution). \n",
    "\n",
    "\n"
   ]
  },
  {
   "cell_type": "code",
   "execution_count": null,
   "metadata": {},
   "outputs": [],
   "source": [
    "# Extract the constraints in the format required by the solver\n",
    "GhAb = constraints.to_GhAb()\n",
    "\n",
    "# Loop over solvers, instantiate the quadratic program, solve it and store the results\n",
    "#<your code here>"
   ]
  },
  {
   "cell_type": "markdown",
   "metadata": {},
   "source": [
    "Print and visualize the results"
   ]
  },
  {
   "cell_type": "code",
   "execution_count": 5,
   "metadata": {},
   "outputs": [],
   "source": [
    "#<your code here>"
   ]
  },
  {
   "cell_type": "markdown",
   "metadata": {},
   "source": [
    "## 2. Analytical Solution to Minimum-Variance Problem\n",
    "\n",
    "(5 points)\n",
    "\n",
    "- Create a `MinVariance` class that follows the structure of the `MeanVariance` class.\n",
    "- Implement the `solve` method in `MinVariance` such that if `solver_name = 'analytical'`, the analytical solution is computed and stored within the object (if such a solution exists). If not, call the `solve` method from the parent class.\n",
    "- Create a `Constraints` object by injecting the same ids as in part 1.b) and add a budget constraint.\n",
    "- Instantiate a `MinVariance` object by setting `solver_name = 'analytical'` and passing instances of `Constraints` and `Covariance` as arguments.\n",
    "- Create an `OptimizationData` object that contains an element `return_series`, which consists of the synthetic data generated in part 1.a).\n",
    "- Solve the optimization problem using the created `MinVariance` object and compare the results to those obtained in part 1.c).\n"
   ]
  },
  {
   "cell_type": "code",
   "execution_count": null,
   "metadata": {},
   "outputs": [],
   "source": [
    "# Define class MinVariance\n",
    "class MinVariance(Optimization):\n",
    "\n",
    "    def __init__(self,\n",
    "                 constraints: Constraints,\n",
    "                 covariance: Optional[Covariance] = None,\n",
    "                 **kwargs):\n",
    "        super().__init__(\n",
    "            constraints=constraints,\n",
    "            **kwargs\n",
    "        )\n",
    "        self.covariance = Covariance() if covariance is None else covariance\n",
    "\n",
    "    def set_objective(self, optimization_data: OptimizationData) -> None:\n",
    "        #<your code here>\n",
    "\n",
    "    def solve(self) -> None:\n",
    "        if self.params.get('solver_name') == 'analytical':\n",
    "            #<your code here>\n",
    "            return None\n",
    "        else:\n",
    "            return super().solve()\n",
    "\n",
    "\n",
    "# Create a constraints object with just a budget constraint\n",
    "#<your code here>\n",
    "\n",
    "# Instantiate the MinVariance class\n",
    "#<your code here>\n",
    "\n",
    "# Prepare the optimization data and prepare the optimization problem\n",
    "#<your code here>\n",
    "\n",
    "# Solve the optimization problem and print the weights\n",
    "#<your code here>"
   ]
  }
 ],
 "metadata": {
  "kernelspec": {
   "display_name": ".venv",
   "language": "python",
   "name": "python3"
  },
  "language_info": {
   "codemirror_mode": {
    "name": "ipython",
    "version": 3
   },
   "file_extension": ".py",
   "mimetype": "text/x-python",
   "name": "python",
   "nbconvert_exporter": "python",
   "pygments_lexer": "ipython3",
   "version": "3.11.9"
  }
 },
 "nbformat": 4,
 "nbformat_minor": 2
}
