{
 "cells": [
  {
   "cell_type": "markdown",
   "metadata": {},
   "source": [
    "# Assignment 3\n",
    "\n",
    "Deadline: 09.04.2025 12:00 CET\n",
    "\n",
    "<Add your name, student-id and emal address>"
   ]
  },
  {
   "cell_type": "code",
   "execution_count": 1,
   "metadata": {},
   "outputs": [],
   "source": [
    "# Standard library imports\n",
    "import os\n",
    "import sys\n",
    "import types\n",
    "\n",
    "# Third party imports\n",
    "import numpy as np\n",
    "import pandas as pd\n",
    "\n",
    "# Add the project root directory to Python path\n",
    "project_root = os.path.dirname(os.path.dirname(os.getcwd()))   #<Change this path if needed>\n",
    "src_path = os.path.join(project_root, 'qpmwp-course\\\\src')\n",
    "sys.path.append(project_root)\n",
    "sys.path.append(src_path)\n",
    "\n",
    "# Local modules imports\n",
    "from helper_functions import load_data_msci\n",
    "from estimation.covariance import Covariance\n",
    "from estimation.expected_return import ExpectedReturn\n",
    "from optimization.optimization import MeanVariance\n",
    "from backtesting.backtest_item_builder_classes import (\n",
    "    SelectionItemBuilder,\n",
    "    OptimizationItemBuilder,\n",
    ")\n",
    "from backtesting.backtest_item_builder_functions import (\n",
    "    bibfn_selection_data_random,\n",
    "    bibfn_return_series,\n",
    "    bibfn_budget_constraint,\n",
    "    bibfn_box_constraints,\n",
    ")\n",
    "from backtesting.portfolio import floating_weights\n",
    "from backtesting.backtest_service import BacktestService\n",
    "from backtesting.backtest import Backtest"
   ]
  },
  {
   "cell_type": "markdown",
   "metadata": {},
   "source": [
    "### Data load"
   ]
  },
  {
   "cell_type": "code",
   "execution_count": 2,
   "metadata": {},
   "outputs": [],
   "source": [
    "N = 24\n",
    "data = load_data_msci(path = '../data/', n = N)  #<Change the path if needed>"
   ]
  },
  {
   "cell_type": "markdown",
   "metadata": {},
   "source": [
    "### Prepare backtest service"
   ]
  },
  {
   "cell_type": "code",
   "execution_count": null,
   "metadata": {},
   "outputs": [],
   "source": [
    "# Define rebalancing dates\n",
    "n_days = 21 * 3\n",
    "start_date = '2010-01-01'\n",
    "dates = data['return_series'].index\n",
    "rebdates = dates[dates > start_date][::n_days].strftime('%Y-%m-%d').tolist()\n",
    "\n",
    "# Define the selection item builders.\n",
    "selection_item_builders = {\n",
    "    'data': SelectionItemBuilder(\n",
    "        bibfn = bibfn_selection_data_random,\n",
    "        k = 10,\n",
    "        seed = 42,\n",
    "    ),\n",
    "}\n",
    "\n",
    "# Define the optimization item builders.\n",
    "optimization_item_builders = {\n",
    "    'return_series': OptimizationItemBuilder(\n",
    "        bibfn = bibfn_return_series,\n",
    "        width = 365 * 3,\n",
    "    ),\n",
    "    'budget_constraint': OptimizationItemBuilder(\n",
    "        bibfn = bibfn_budget_constraint,\n",
    "        budget = 1,\n",
    "    ),\n",
    "    'box_constraints': OptimizationItemBuilder(\n",
    "        bibfn = bibfn_box_constraints,\n",
    "        upper = 0.5,\n",
    "    ),\n",
    "}\n",
    "\n",
    "# Initialize the backtest service\n",
    "bs = BacktestService(\n",
    "    data = data,\n",
    "    selection_item_builders = selection_item_builders,\n",
    "    optimization_item_builders = optimization_item_builders,\n",
    "    optimization = MeanVariance(\n",
    "        covariance = Covariance(method = 'pearson'),\n",
    "        expected_return = ExpectedReturn(method = 'geometric'),\n",
    "        risk_aversion = 1,\n",
    "        solver_name = 'cvxopt',\n",
    "    ),\n",
    "    rebdates = rebdates,\n",
    ")"
   ]
  },
  {
   "cell_type": "markdown",
   "metadata": {},
   "source": [
    "### Run the backtest"
   ]
  },
  {
   "cell_type": "code",
   "execution_count": 25,
   "metadata": {},
   "outputs": [],
   "source": [
    "# Instantiate the backtest object and run the backtest\n",
    "bt_mv = Backtest()\n",
    "\n",
    "# Run the backtest\n",
    "bt_mv.run(bs = bs)"
   ]
  },
  {
   "cell_type": "markdown",
   "metadata": {},
   "source": [
    "## 1. Turnover\n",
    "\n",
    "**(6 points)**\n",
    "\n",
    "Complete the function `turnover`."
   ]
  },
  {
   "cell_type": "code",
   "execution_count": 26,
   "metadata": {},
   "outputs": [],
   "source": [
    "\n",
    "def turnover(self, return_series: pd.DataFrame, rescale: bool=True):\n",
    "\n",
    "    dates = self.get_rebalancing_dates()\n",
    "    to = {}\n",
    "    to[dates[0]] = float(1)\n",
    "    for rebalancing_date in dates[1:]:\n",
    "\n",
    "        previous_portfolio = self.get_previous_portfolio(rebalancing_date)\n",
    "        current_portfolio = self.get_portfolio(rebalancing_date)\n",
    "        \n",
    "        if current_portfolio.rebalancing_date is None or previous_portfolio.rebalancing_date is None:\n",
    "            raise ValueError('Portfolios must have a rebalancing date')\n",
    "\n",
    "        if current_portfolio.rebalancing_date < previous_portfolio.rebalancing_date:\n",
    "            raise ValueError('The previous portfolio must be older than the current portfolio')\n",
    "\n",
    "        # Get the union of the ids of the weights in both portfolios (previous and current)\n",
    "        # <your code here>\n",
    "\n",
    "        # Extend the weights of the previous portfolio to the the union of ids in both portfolios by adding zeros\n",
    "        # <your code here>\n",
    "\n",
    "        # Float the weights of the previous portfolio according to the price drifts in the market \n",
    "        # until the current rebalancing date\n",
    "        # Hint: use function floating_weights from module portfolio.py\n",
    "        # <your code here> \n",
    "\n",
    "        # Extract the weights of the current portfolio\n",
    "        # <your code here>\n",
    "\n",
    "        # Calculate the turnover\n",
    "        # to[rebalancing_date] = <your code here>\n",
    "\n",
    "    return pd.Series(to)\n"
   ]
  },
  {
   "cell_type": "markdown",
   "metadata": {},
   "source": [
    "2: Simulation\n",
    "\n",
    "(6 points)\n",
    "\n",
    "Complete the function `simulate`."
   ]
  },
  {
   "cell_type": "code",
   "execution_count": null,
   "metadata": {},
   "outputs": [],
   "source": [
    "def simulate(self,\n",
    "                return_series: pd.DataFrame,\n",
    "                fc: float = 0,\n",
    "                vc: float = 0,\n",
    "                n_days_per_year: int = 252) -> pd.Series:\n",
    "\n",
    "    rebdates = self.get_rebalancing_dates()\n",
    "    ret_list = []\n",
    "    for rebdate in rebdates:\n",
    "        next_rebdate = (\n",
    "            rebdates[rebdates.index(rebdate) + 1]\n",
    "            if rebdate < rebdates[-1]\n",
    "            else return_series.index[-1]\n",
    "        )\n",
    "\n",
    "        portfolio = self.get_portfolio(rebdate)\n",
    "        w_float = portfolio.float_weights(\n",
    "            return_series=return_series,\n",
    "            end_date=next_rebdate,\n",
    "            rescale=False # Notice that rescale is hardcoded to False.\n",
    "        )\n",
    "        level = w_float.sum(axis=1)\n",
    "        ret_tmp = level.pct_change(1)\n",
    "        ret_list.append(ret_tmp)\n",
    "\n",
    "    portf_ret = pd.concat(ret_list).dropna()\n",
    "\n",
    "    if vc != 0:\n",
    "        # Calculate turnover\n",
    "        to = self.turnover(return_series=return_series,\n",
    "                           rescale=False)\n",
    "        # Calculate variable cost (vc) as a fraction of turnover and\n",
    "        # subtract the variable cost from the returns at each rebalancing date\n",
    "\n",
    "        # <your code here>\n",
    "\n",
    "    if fc != 0:\n",
    "        # Calculate number of days between returns\n",
    "        # Calculate daily fixed cost based on the annual fixed cost (fc),\n",
    "        # the number of days between two rebalancings and the number of days per year.\n",
    "        # Subtract the daily fixed cost from the daily returns\n",
    "        \n",
    "        # <your code here>\n",
    "\n",
    "    return portf_ret"
   ]
  },
  {
   "cell_type": "markdown",
   "metadata": {},
   "source": [
    "Overwrite the turnover and the simulation methods of the current strategy object."
   ]
  },
  {
   "cell_type": "code",
   "execution_count": 15,
   "metadata": {},
   "outputs": [],
   "source": [
    "# Overwrite the turnover method of the strategy object\n",
    "bt_mv.strategy.turnover = types.MethodType(turnover, bt_mv.strategy)\n",
    "\n",
    "# Overwrite the simulate method of the strategy object\n",
    "bt_mv.strategy.simulate = types.MethodType(simulate, bt_mv.strategy)"
   ]
  },
  {
   "cell_type": "markdown",
   "metadata": {},
   "source": [
    "Calculate and plot the turnover."
   ]
  },
  {
   "cell_type": "code",
   "execution_count": null,
   "metadata": {},
   "outputs": [],
   "source": [
    "bt_mv.strategy.turnover(\n",
    "    return_series = data['return_series'],\n",
    "    rescale = True,\n",
    ").plot(title = 'Turnover', figsize = (10, 5))\n"
   ]
  },
  {
   "cell_type": "markdown",
   "metadata": {},
   "source": [
    "Simulate with different cost assumptions."
   ]
  },
  {
   "cell_type": "code",
   "execution_count": null,
   "metadata": {},
   "outputs": [],
   "source": [
    "return_series = bs.data['return_series']\n",
    "\n",
    "sim_mv_gross = bt_mv.strategy.simulate(return_series=return_series, fc=0, vc=0)\n",
    "sim_mv_net_of_fc = bt_mv.strategy.simulate(return_series=return_series, fc=0.01, vc=0)\n",
    "sim_mv_net_of_vc = bt_mv.strategy.simulate(return_series=return_series, fc=0, vc=0.002)\n",
    "sim_mv_net = bt_mv.strategy.simulate(return_series=return_series, fc=0.01, vc=0.002)\n"
   ]
  },
  {
   "cell_type": "markdown",
   "metadata": {},
   "source": [
    "Plot the cumulative returns."
   ]
  },
  {
   "cell_type": "code",
   "execution_count": null,
   "metadata": {},
   "outputs": [],
   "source": [
    "sim = pd.concat({\n",
    "    'mv_gross': sim_mv_gross,\n",
    "    'mv_net_of_fc': sim_mv_net_of_fc,\n",
    "    'mv_net_of_vc': sim_mv_net_of_vc,\n",
    "    'mv_net': sim_mv_net,\n",
    "}, axis = 1).dropna()\n",
    "\n",
    "\n",
    "np.log((1 + sim)).cumsum().plot(figsize = (10, 6))"
   ]
  },
  {
   "cell_type": "markdown",
   "metadata": {},
   "source": [
    "3: Descriptive Statistics\n",
    "\n",
    "(3 points)\n",
    "\n",
    "Generate a table with descriptive statistics of the simulations. Include the following statistics:\n",
    "- cumulative return (i.e., the return over the entire simulation period)\n",
    "- annualized average returns\n",
    "- annualized volatility\n",
    "- sharpe ratio\n",
    "- maximum drawdown"
   ]
  },
  {
   "cell_type": "code",
   "execution_count": 31,
   "metadata": {},
   "outputs": [],
   "source": [
    "# <your code here>"
   ]
  }
 ],
 "metadata": {
  "kernelspec": {
   "display_name": ".venv",
   "language": "python",
   "name": "python3"
  },
  "language_info": {
   "codemirror_mode": {
    "name": "ipython",
    "version": 3
   },
   "file_extension": ".py",
   "mimetype": "text/x-python",
   "name": "python",
   "nbconvert_exporter": "python",
   "pygments_lexer": "ipython3",
   "version": "3.10.11"
  }
 },
 "nbformat": 4,
 "nbformat_minor": 2
}
